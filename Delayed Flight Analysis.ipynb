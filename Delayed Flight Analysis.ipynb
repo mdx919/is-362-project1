{
 "cells": [
  {
   "cell_type": "markdown",
   "id": "bd3010bd",
   "metadata": {},
   "source": [
    "## Importing Libraries"
   ]
  },
  {
   "cell_type": "code",
   "execution_count": 15,
   "id": "5943fcd2",
   "metadata": {},
   "outputs": [],
   "source": [
    "import pandas as pd\n",
    "import numpy as np\n",
    "import matplotlib.pyplot as plt"
   ]
  },
  {
   "cell_type": "code",
   "execution_count": null,
   "id": "2e911774",
   "metadata": {},
   "outputs": [],
   "source": []
  },
  {
   "cell_type": "markdown",
   "id": "0a049d07",
   "metadata": {},
   "source": [
    "## Reading File"
   ]
  },
  {
   "cell_type": "code",
   "execution_count": 16,
   "id": "50fcebdf",
   "metadata": {},
   "outputs": [],
   "source": [
    "flights = pd.read_csv(\"is-362-project1.csv\")"
   ]
  },
  {
   "cell_type": "code",
   "execution_count": 17,
   "id": "44aaba33",
   "metadata": {},
   "outputs": [
    {
     "data": {
      "text/html": [
       "<div>\n",
       "<style scoped>\n",
       "    .dataframe tbody tr th:only-of-type {\n",
       "        vertical-align: middle;\n",
       "    }\n",
       "\n",
       "    .dataframe tbody tr th {\n",
       "        vertical-align: top;\n",
       "    }\n",
       "\n",
       "    .dataframe thead th {\n",
       "        text-align: right;\n",
       "    }\n",
       "</style>\n",
       "<table border=\"1\" class=\"dataframe\">\n",
       "  <thead>\n",
       "    <tr style=\"text-align: right;\">\n",
       "      <th></th>\n",
       "      <th>Airline Name</th>\n",
       "      <th>status</th>\n",
       "      <th>Los Angeles</th>\n",
       "      <th>Phoenix</th>\n",
       "      <th>San Diego</th>\n",
       "      <th>San Francisco</th>\n",
       "      <th>Seattle</th>\n",
       "    </tr>\n",
       "  </thead>\n",
       "  <tbody>\n",
       "    <tr>\n",
       "      <th>0</th>\n",
       "      <td>Alaska</td>\n",
       "      <td>On time</td>\n",
       "      <td>497</td>\n",
       "      <td>221</td>\n",
       "      <td>212</td>\n",
       "      <td>503</td>\n",
       "      <td>1841</td>\n",
       "    </tr>\n",
       "    <tr>\n",
       "      <th>1</th>\n",
       "      <td>Alaska</td>\n",
       "      <td>delayed</td>\n",
       "      <td>62</td>\n",
       "      <td>12</td>\n",
       "      <td>20</td>\n",
       "      <td>102</td>\n",
       "      <td>305</td>\n",
       "    </tr>\n",
       "    <tr>\n",
       "      <th>2</th>\n",
       "      <td>AM west</td>\n",
       "      <td>On time</td>\n",
       "      <td>694</td>\n",
       "      <td>4840</td>\n",
       "      <td>383</td>\n",
       "      <td>320</td>\n",
       "      <td>201</td>\n",
       "    </tr>\n",
       "    <tr>\n",
       "      <th>3</th>\n",
       "      <td>AM west</td>\n",
       "      <td>delayed</td>\n",
       "      <td>117</td>\n",
       "      <td>415</td>\n",
       "      <td>65</td>\n",
       "      <td>129</td>\n",
       "      <td>61</td>\n",
       "    </tr>\n",
       "  </tbody>\n",
       "</table>\n",
       "</div>"
      ],
      "text/plain": [
       "  Airline Name   status  Los Angeles  Phoenix  San Diego  San Francisco  \\\n",
       "0       Alaska  On time          497      221        212            503   \n",
       "1       Alaska  delayed           62       12         20            102   \n",
       "2      AM west  On time          694     4840        383            320   \n",
       "3      AM west  delayed          117      415         65            129   \n",
       "\n",
       "   Seattle  \n",
       "0     1841  \n",
       "1      305  \n",
       "2      201  \n",
       "3       61  "
      ]
     },
     "execution_count": 17,
     "metadata": {},
     "output_type": "execute_result"
    }
   ],
   "source": [
    "flights"
   ]
  },
  {
   "cell_type": "code",
   "execution_count": null,
   "id": "cce28263",
   "metadata": {},
   "outputs": [],
   "source": []
  },
  {
   "cell_type": "markdown",
   "id": "820b2c11",
   "metadata": {},
   "source": [
    "## Getting Number of Delayed flights in a list for both airlines"
   ]
  },
  {
   "cell_type": "code",
   "execution_count": 18,
   "id": "96ae2cee",
   "metadata": {},
   "outputs": [
    {
     "data": {
      "text/plain": [
       "[62, 12, 20, 102, 305]"
      ]
     },
     "execution_count": 18,
     "metadata": {},
     "output_type": "execute_result"
    }
   ],
   "source": [
    "alaska_delayed = flights[(flights[\"Airline Name\"] == \"Alaska\") & ( flights[\"status\"] == \"delayed\")]\n",
    "alaska_delayed = alaska_delayed[[\"Los Angeles\",  \"Phoenix\", \"San Diego\", \"San Francisco\", \"Seattle\"]]\n",
    "alaska_delayed = list(alaska_delayed.iloc[0])\n",
    "alaska_delayed"
   ]
  },
  {
   "cell_type": "code",
   "execution_count": 19,
   "id": "77d34931",
   "metadata": {},
   "outputs": [
    {
     "data": {
      "text/plain": [
       "[117, 415, 65, 129, 61]"
      ]
     },
     "execution_count": 19,
     "metadata": {},
     "output_type": "execute_result"
    }
   ],
   "source": [
    "amwest_delayed = flights[(flights[\"Airline Name\"] == \"AM west\") & (flights[\"status\"] == \"delayed\")]\n",
    "amwest_delayed = amwest_delayed[[\"Los Angeles\",  \"Phoenix\", \"San Diego\", \"San Francisco\", \"Seattle\"]]\n",
    "amwest_delayed = list(amwest_delayed.iloc[0])\n",
    "amwest_delayed"
   ]
  },
  {
   "cell_type": "code",
   "execution_count": null,
   "id": "9170296d",
   "metadata": {},
   "outputs": [],
   "source": []
  },
  {
   "cell_type": "markdown",
   "id": "387b3408",
   "metadata": {},
   "source": [
    "## Getting Total Number of Flights for both Airlines"
   ]
  },
  {
   "cell_type": "code",
   "execution_count": 20,
   "id": "fa4d8b20",
   "metadata": {},
   "outputs": [],
   "source": [
    "flights_total = flights.groupby(\"Airline Name\").sum().reset_index()"
   ]
  },
  {
   "cell_type": "code",
   "execution_count": 21,
   "id": "0143b240",
   "metadata": {},
   "outputs": [
    {
     "data": {
      "text/html": [
       "<div>\n",
       "<style scoped>\n",
       "    .dataframe tbody tr th:only-of-type {\n",
       "        vertical-align: middle;\n",
       "    }\n",
       "\n",
       "    .dataframe tbody tr th {\n",
       "        vertical-align: top;\n",
       "    }\n",
       "\n",
       "    .dataframe thead th {\n",
       "        text-align: right;\n",
       "    }\n",
       "</style>\n",
       "<table border=\"1\" class=\"dataframe\">\n",
       "  <thead>\n",
       "    <tr style=\"text-align: right;\">\n",
       "      <th></th>\n",
       "      <th>Airline Name</th>\n",
       "      <th>Los Angeles</th>\n",
       "      <th>Phoenix</th>\n",
       "      <th>San Diego</th>\n",
       "      <th>San Francisco</th>\n",
       "      <th>Seattle</th>\n",
       "    </tr>\n",
       "  </thead>\n",
       "  <tbody>\n",
       "    <tr>\n",
       "      <th>0</th>\n",
       "      <td>AM west</td>\n",
       "      <td>811</td>\n",
       "      <td>5255</td>\n",
       "      <td>448</td>\n",
       "      <td>449</td>\n",
       "      <td>262</td>\n",
       "    </tr>\n",
       "    <tr>\n",
       "      <th>1</th>\n",
       "      <td>Alaska</td>\n",
       "      <td>559</td>\n",
       "      <td>233</td>\n",
       "      <td>232</td>\n",
       "      <td>605</td>\n",
       "      <td>2146</td>\n",
       "    </tr>\n",
       "  </tbody>\n",
       "</table>\n",
       "</div>"
      ],
      "text/plain": [
       "  Airline Name  Los Angeles  Phoenix  San Diego  San Francisco  Seattle\n",
       "0      AM west          811     5255        448            449      262\n",
       "1       Alaska          559      233        232            605     2146"
      ]
     },
     "execution_count": 21,
     "metadata": {},
     "output_type": "execute_result"
    }
   ],
   "source": [
    "flights_total"
   ]
  },
  {
   "cell_type": "code",
   "execution_count": 22,
   "id": "924ecd86",
   "metadata": {},
   "outputs": [
    {
     "data": {
      "text/plain": [
       "[559, 233, 232, 605, 2146]"
      ]
     },
     "execution_count": 22,
     "metadata": {},
     "output_type": "execute_result"
    }
   ],
   "source": [
    "alaska_total = flights_total[(flights_total[\"Airline Name\"] == \"Alaska\")]\n",
    "alaska_total = alaska_total[[\"Los Angeles\",  \"Phoenix\", \"San Diego\", \"San Francisco\", \"Seattle\"]]\n",
    "alaska_total = list(alaska_total.iloc[0])\n",
    "alaska_total"
   ]
  },
  {
   "cell_type": "code",
   "execution_count": 23,
   "id": "2f4edcdf",
   "metadata": {},
   "outputs": [
    {
     "data": {
      "text/plain": [
       "[811, 5255, 448, 449, 262]"
      ]
     },
     "execution_count": 23,
     "metadata": {},
     "output_type": "execute_result"
    }
   ],
   "source": [
    "amwest_total = flights_total[(flights_total[\"Airline Name\"] == \"AM west\")]\n",
    "amwest_total = amwest_total[[\"Los Angeles\",  \"Phoenix\", \"San Diego\", \"San Francisco\", \"Seattle\"]]\n",
    "amwest_total = list(amwest_total.iloc[0])\n",
    "amwest_total"
   ]
  },
  {
   "cell_type": "code",
   "execution_count": 24,
   "id": "4b4644ec",
   "metadata": {},
   "outputs": [
    {
     "data": {
      "text/plain": [
       "['Los Angeles', 'Phoenix', 'San Diego', 'San Francisco', 'Seattle']"
      ]
     },
     "execution_count": 24,
     "metadata": {},
     "output_type": "execute_result"
    }
   ],
   "source": [
    "locations = [\"Los Angeles\", \"Phoenix\", \"San Diego\", \"San Francisco\", \"Seattle\"]\n",
    "locations"
   ]
  },
  {
   "cell_type": "markdown",
   "id": "380119e3",
   "metadata": {},
   "source": [
    "# Plotting Delayed Flights for Both Airline"
   ]
  },
  {
   "cell_type": "code",
   "execution_count": 31,
   "id": "119ab8e3",
   "metadata": {},
   "outputs": [
    {
     "data": {
      "image/png": "[encoded data removed]",
      "text/plain": [
       "<Figure size 432x288 with 1 Axes>"
      ]
     },
     "metadata": {
      "needs_background": "light"
     },
     "output_type": "display_data"
    }
   ],
   "source": [
    "\n",
    "x_axis = np.arange(len(locations))\n",
    "\n",
    "fig, ax = plt.subplots()\n",
    "\n",
    "a1 = ax.bar(x_axis + 0.2, alaska_delayed, 0.4, label = \"Alaska\" )\n",
    "a2 = ax.bar(x_axis - 0.2, amwest_delayed, 0.4, label = \"AM West\" )\n",
    "\n",
    "\n",
    "\n",
    "\n",
    "ax.set_xlabel(\"Location\")\n",
    "ax.set_ylabel(\"Number of Flights\")\n",
    "ax.set_title(\"Delayed Flights by Airline x Location\")\n",
    "ax.set_xticks(x_axis, locations)\n",
    "ax.legend()\n",
    "\n",
    "\n",
    "ax.bar_label(a1, padding = 3)\n",
    "ax.bar_label(a2, padding = 3)\n",
    "ax.legend()\n",
    "plt.show()\n",
    "\n"
   ]
  },
  {
   "cell_type": "markdown",
   "id": "47f23c58",
   "metadata": {},
   "source": [
    "### From above graph, we can see that AM West Airlines has more number of delayed flight on all locations except Seattle where Alaska airlines has more number of delayed flights"
   ]
  },
  {
   "cell_type": "markdown",
   "id": "a325f1ae",
   "metadata": {},
   "source": [
    "# Calculating Percentage Delayed Flights for Both Airline"
   ]
  },
  {
   "cell_type": "markdown",
   "id": "9e7294cd",
   "metadata": {},
   "source": [
    "## Percentage Delayed"
   ]
  },
  {
   "cell_type": "code",
   "execution_count": 29,
   "id": "d265fc64",
   "metadata": {
    "scrolled": true
   },
   "outputs": [],
   "source": [
    "alaska_delayed_percentage = list()\n",
    "amwest_delayed_percentage = list()\n",
    "\n",
    "for i in range(len(amwest_delayed)):\n",
    "    alaska_delayed_percentage.append(round(alaska_delayed[i]/ alaska_total[i], 2))\n",
    "    amwest_delayed_percentage.append(round(amwest_delayed[i]/ amwest_total[i], 2))\n"
   ]
  },
  {
   "cell_type": "markdown",
   "id": "b533fef4",
   "metadata": {},
   "source": [
    "# Plotting Percentage Delayed Flights for Both Airline"
   ]
  },
  {
   "cell_type": "code",
   "execution_count": 30,
   "id": "b5e37f48",
   "metadata": {
    "scrolled": false
   },
   "outputs": [
    {
     "data": {
      "image/png": "[encoded data removed]",
      "text/plain": [
       "<Figure size 432x288 with 1 Axes>"
      ]
     },
     "metadata": {
      "needs_background": "light"
     },
     "output_type": "display_data"
    }
   ],
   "source": [
    "\n",
    "x_axis = np.arange(len(locations))\n",
    "\n",
    "fig, ax = plt.subplots()\n",
    "\n",
    "a1 = ax.bar(x_axis + 0.2, alaska_delayed_percentage, 0.4, label = \"Alaska\" )\n",
    "a2 = ax.bar(x_axis - 0.2, amwest_delayed_percentage, 0.4, label = \"AM West\" )\n",
    "\n",
    "\n",
    "\n",
    "\n",
    "ax.set_xlabel(\"Location\")\n",
    "ax.set_ylabel(\"Percentage of Flights\")\n",
    "ax.set_title(\"Percentage of Delayed Flights by Airline x Location\")\n",
    "ax.set_xticks(x_axis, locations)\n",
    "ax.legend()\n",
    "\n",
    "\n",
    "ax.bar_label(a1, padding = 3)\n",
    "ax.bar_label(a2, padding = 3)\n",
    "ax.legend()\n",
    "plt.show()\n",
    "\n"
   ]
  },
  {
   "cell_type": "code",
   "execution_count": null,
   "id": "4aa6a936",
   "metadata": {
    "scrolled": true
   },
   "outputs": [],
   "source": [
    "print(\"Average delayed flights for Alaska Airlines:\", round(sum(alaska_delayed_percentage)/ len(alaska_delayed_percentage)*100,1), \"%\")\n",
    "print(\"Average delayed flights for AM West Airlines:\", round(sum(amwest_delayed_percentage)/ len(amwest_delayed_percentage)*100,1), \"%\")"
   ]
  },
  {
   "cell_type": "markdown",
   "id": "05b3de26",
   "metadata": {},
   "source": [
    "### * From above graph, in terms of percentage of total flights at a location, AM West airlines has more percentage of delayed flights across all locations. \n",
    "### * On average 17.8% of AM West Airlines are delayed on each location against 11.2% Alaskan Flights"
   ]
  }
 ],
 "metadata": {
  "kernelspec": {
   "display_name": "Python 3 (ipykernel)",
   "language": "python",
   "name": "python3"
  },
  "language_info": {
   "codemirror_mode": {
    "name": "ipython",
    "version": 3
   },
   "file_extension": ".py",
   "mimetype": "text/x-python",
   "name": "python",
   "nbconvert_exporter": "python",
   "pygments_lexer": "ipython3",
   "version": "3.9.10"
  }
 },
 "nbformat": 4,
 "nbformat_minor": 5
}
